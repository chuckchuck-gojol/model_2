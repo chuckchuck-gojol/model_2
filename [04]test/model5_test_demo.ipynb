{
 "cells": [
  {
   "cell_type": "code",
   "execution_count": 1,
   "metadata": {},
   "outputs": [],
   "source": [
    "import librosa\n",
    "import scipy.signal as signal\n",
    "import numpy as np\n",
    "import pandas as pd\n",
    "import joblib"
   ]
  },
  {
   "cell_type": "code",
   "execution_count": 2,
   "metadata": {},
   "outputs": [],
   "source": [
    "import os\n",
    "import multiprocessing\n",
    "from multiprocessing import Pool\n",
    "from functools import partial\n",
    "import numpy as np\n",
    "import pandas as pd \n",
    "from data_loader_v2 import data_loader_v2"
   ]
  },
  {
   "cell_type": "code",
   "execution_count": 5,
   "metadata": {},
   "outputs": [],
   "source": [
    "#환경 확인\n",
    "import pyaudio\n",
    "import wave\n",
    "FORMAT = pyaudio.paInt16\n",
    "CHANNELS = 1\n",
    "RATE = 16000\n",
    "CHUNK = 1024\n",
    "RECORD_SECONDS = 20\n",
    "WAVE_OUTPUT_FILENAME = \"test_file.wav\"\n",
    "audio = pyaudio.PyAudio()"
   ]
  },
  {
   "cell_type": "code",
   "execution_count": 6,
   "metadata": {},
   "outputs": [
    {
     "name": "stdout",
     "output_type": "stream",
     "text": [
      "recording...\n",
      "finished recording\n"
     ]
    }
   ],
   "source": [
    "# start Recording\n",
    "stream = audio.open(format=pyaudio.paInt16,\n",
    "                    channels=CHANNELS,\n",
    "                    rate=RATE,\n",
    "                    input=True,\n",
    "                    input_device_index=1,\n",
    "                    frames_per_buffer=CHUNK)\n",
    "print (\"recording...\")\n",
    "frames = []\n",
    "for i in range(0, int(RATE / CHUNK * RECORD_SECONDS)):\n",
    "    data = stream.read(CHUNK)\n",
    "    frames.append(data)\n",
    "print (\"finished recording\")"
   ]
  },
  {
   "cell_type": "code",
   "execution_count": 7,
   "metadata": {},
   "outputs": [],
   "source": [
    "stream.stop_stream()\n",
    "stream.close()\n",
    "audio.terminate()\n",
    "waveFile = wave.open(WAVE_OUTPUT_FILENAME, 'wb')\n",
    "waveFile.setnchannels(CHANNELS)\n",
    "waveFile.setsampwidth(audio.get_sample_size(FORMAT))\n",
    "waveFile.setframerate(RATE)\n",
    "waveFile.writeframes(b''.join(frames))\n",
    "waveFile.close()"
   ]
  },
  {
   "cell_type": "code",
   "execution_count": 19,
   "metadata": {},
   "outputs": [],
   "source": [
    "#test_file.wav\n",
    "audio_sample, sampling_rate = librosa.load(\"test_file.wav\", sr = None)\n",
    "\n",
    "#stft 처리\n",
    "#변수는 임의 상정(혹은 기본값)\n",
    "S = np.abs(librosa.stft(audio_sample, n_fft=1024, hop_length=512, win_length = 1024, window=signal.hann))\n",
    "pitches, magnitudes = librosa.piptrack(S=S, sr=sampling_rate, fmin=400, fmax=3000)\n",
    "shape = np.shape(pitches)\n",
    "nb_pitch = shape[0]\n",
    "nb_time = shape[1]\n",
    "#피치 생성\n",
    "for i in range(0, nb_time):\n",
    "    index = magnitudes[:,i].argmax()\n",
    "    pitch = pitches[index,i]\n",
    "df_pitch = pd.DataFrame(pitches)\n",
    "#데이터 생성\n",
    "#col : 피쳐(피치값), row : time\n",
    "df_pitch = df_pitch.T\n",
    "df_pitch.to_csv(\"data/test/1.csv\", index=False)\n",
    "    \n",
    "#편의를 위해 추가한 코드...\n",
    "#col 크기 94로 통일\n",
    "df_tmp = pd.read_csv(\"data/test/1.csv\")\n",
    "drop_col = [str(i) for i in range(95, nb_pitch)]\n",
    "df_tmp = df_tmp.drop(drop_col, axis=1)\n",
    "df_tmp.to_csv(\"data/test/1.csv\")"
   ]
  },
  {
   "cell_type": "code",
   "execution_count": 20,
   "metadata": {},
   "outputs": [],
   "source": [
    "# 563줄만 가져오기(녹음할때도 이거 기준으로 잘라야함)\n",
    "def data_loader_all(func, files, folder='', train_label=None, event_time=0, nrows=563):   \n",
    "    #변수 값 고정하여 파생 함수\n",
    "    func_fixed = partial(func, folder=folder, train_label=train_label, event_time=event_time, nrows=nrows)     \n",
    "    \n",
    "    #cpu에 작업 분할\n",
    "    if __name__ == '__main__':\n",
    "        pool = Pool(processes=multiprocessing.cpu_count()) \n",
    "        df_list = list(pool.imap(func_fixed, files)) \n",
    "        pool.close()\n",
    "        pool.join()        \n",
    "    \n",
    "    #df생성\n",
    "    combined_df = pd.concat(df_list)    \n",
    "    return combined_df"
   ]
  },
  {
   "cell_type": "code",
   "execution_count": 21,
   "metadata": {},
   "outputs": [],
   "source": [
    "#데이터 불러오기\n",
    "test_folder = 'data/test/'\n",
    "test_list = os.listdir(test_folder)\n",
    "#test_label = pd.read_csv(test_label_path, index_col=0)\n",
    "test = data_loader_all(data_loader_v2, test_list, folder=test_folder, train_label=None, event_time=0, nrows=563)"
   ]
  },
  {
   "cell_type": "code",
   "execution_count": 22,
   "metadata": {},
   "outputs": [],
   "source": [
    "model = joblib.load('model_lstm1.pkl')\n",
    "de_label = pd.read_csv('de_train_label.csv', engine='python', index_col = None)"
   ]
  },
  {
   "cell_type": "code",
   "execution_count": 23,
   "metadata": {},
   "outputs": [],
   "source": [
    "test = test.values\n",
    "test_t = test.reshape(test.shape[0], 95, 1)\n",
    "pred = model.predict_proba(test_t)\n",
    "pred = pred.reshape(563, int(pred.shape[0]/563))"
   ]
  },
  {
   "cell_type": "code",
   "execution_count": 24,
   "metadata": {},
   "outputs": [],
   "source": [
    "#평균값\n",
    "def ans(nparray):\n",
    "    tmp_list=[]\n",
    "    for i in range (0, nparray.shape[1]):\n",
    "        tmp=0\n",
    "        for j in range (0, nparray.shape[0]):\n",
    "            tmp+=nparray[j][i]\n",
    "        tmp_list.append(round(tmp/563))\n",
    "    return tmp_list"
   ]
  },
  {
   "cell_type": "code",
   "execution_count": 25,
   "metadata": {},
   "outputs": [
    {
     "name": "stdout",
     "output_type": "stream",
     "text": [
      "이번 역은 대림역 입니다.\n"
     ]
    }
   ],
   "source": [
    "ans_list = ans(pred)\n",
    "for i in range (0, len(ans_list)):\n",
    "    print(\"이번 역은 \"+de_label['name'][ans_list[i]]+\"역 입니다.\")"
   ]
  },
  {
   "cell_type": "code",
   "execution_count": null,
   "metadata": {},
   "outputs": [],
   "source": []
  }
 ],
 "metadata": {
  "kernelspec": {
   "display_name": "Python 3",
   "language": "python",
   "name": "python3"
  },
  "language_info": {
   "codemirror_mode": {
    "name": "ipython",
    "version": 3
   },
   "file_extension": ".py",
   "mimetype": "text/x-python",
   "name": "python",
   "nbconvert_exporter": "python",
   "pygments_lexer": "ipython3",
   "version": "3.7.4"
  }
 },
 "nbformat": 4,
 "nbformat_minor": 2
}
