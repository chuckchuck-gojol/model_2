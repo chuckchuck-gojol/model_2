{
 "cells": [
  {
   "cell_type": "code",
   "execution_count": 6,
   "metadata": {},
   "outputs": [],
   "source": [
    "import os"
   ]
  },
  {
   "cell_type": "code",
   "execution_count": 7,
   "metadata": {},
   "outputs": [
    {
     "name": "stdout",
     "output_type": "stream",
     "text": [
      "['100.wav', '101.wav', '102.wav', '103.wav', '104.wav', '105.wav', '106.wav', '107.wav', '108.wav', '109.wav', '110.wav', '111.wav', '112.wav', '113.wav', '114.wav', '115.wav', '116.wav', '117.wav', '118.wav', '119.wav', '120.wav', '121.wav', '122.wav', '123.wav', '124.wav', '125.wav', '126.wav', '127.wav', '128.wav', '86.wav', '87.wav', '88.wav', '89.wav', '90.wav', '91.wav', '92.wav', '93.wav', '94.wav', '95.wav', '96.wav', '97.wav', '98.wav', '99.wav']\n"
     ]
    }
   ],
   "source": [
    "folder_path = \"data/\"\n",
    "folder_path_sub = \"wav/\"\n",
    "folder_list = os.listdir(folder_path)\n",
    "print(folder_list)"
   ]
  },
  {
   "cell_type": "code",
   "execution_count": 8,
   "metadata": {
    "scrolled": true
   },
   "outputs": [],
   "source": [
    "i=0\n",
    "for filename in os.listdir(folder_path):\n",
    "    os.rename(folder_path+filename, folder_path_sub+str(i)+'-3.wav')\n",
    "    i+=1"
   ]
  },
  {
   "cell_type": "code",
   "execution_count": null,
   "metadata": {},
   "outputs": [],
   "source": []
  }
 ],
 "metadata": {
  "kernelspec": {
   "display_name": "Python 3",
   "language": "python",
   "name": "python3"
  },
  "language_info": {
   "codemirror_mode": {
    "name": "ipython",
    "version": 3
   },
   "file_extension": ".py",
   "mimetype": "text/x-python",
   "name": "python",
   "nbconvert_exporter": "python",
   "pygments_lexer": "ipython3",
   "version": "3.7.4"
  }
 },
 "nbformat": 4,
 "nbformat_minor": 2
}
